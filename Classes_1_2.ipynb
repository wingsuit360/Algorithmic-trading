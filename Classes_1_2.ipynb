{
 "cells": [
  {
   "cell_type": "code",
   "execution_count": 8,
   "metadata": {},
   "outputs": [],
   "source": [
    "class Loginer:\n",
    "    \n",
    "    def __init__(self, email, password, csrf):\n",
    "        self.email = email\n",
    "        self.password = password\n",
    "        self.csrf = csrf\n",
    "    \n",
    "    def login(self, req):\n",
    "        url = 'https://www.worldquantvrc.com/login/process'\n",
    "        headers = {'User-Agent': 'Mozilla/5.0 (X11; Linux x86_64) AppleWebKit/537.36 (KHTML, like Gecko) snap Chromium/71.0.3578.98 Chrome/71.0.3578.98 Safari/537.36'}\n",
    "        sim_data = dict(EmailAddress = self.email, Password = self.password, _xsrf = self.csrf)\n",
    "        login = req.post(url, data = sim_data, verify = False, allow_redirects = True, headers = headers)\n",
    "        try:\n",
    "            dct = login.json()\n",
    "            return dct['status']\n",
    "        except json.decoder.JSONDecodeError:\n",
    "            return False \n",
    "        \n",
    "    def check(self, req):\n",
    "        url = 'https://www.worldquantvrc.com/account/userdata'\n",
    "        check = req.post(url)\n",
    "        try:\n",
    "            return check.json()['status']\n",
    "        except json.decoder.JSONDecodeError:\n",
    "            return False"
   ]
  },
  {
   "cell_type": "code",
   "execution_count": 9,
   "metadata": {},
   "outputs": [],
   "source": [
    "class CodeVariator:\n",
    "    \n",
    "    def __init__(self):\n",
    "        self.templ_settings = '{\"delay\":\"1\",\"unitcheck\":\"off\",\"univid\":\"TOP100\",\"opcodetype\":\"EXPRESSION\",\"opassetclass\":\"EQUITY\",\"optrunc\":0.018,\"code\": \"%s\",\"region\":\"EUR\",\"opneut\":\"market\",\"IntradayType\":null,\"tags\":\"equity\",\"decay\":10,\"dataviz\":\"0\",\"backdays\":256,\"simtime\":\"Y5\"}'\n",
    "\n",
    "        self.groups = ['country', 'assets/sales', 'debt/equity', 'revenue/receivable', 'sector', 'subindustry', 'current_ratio', 'industry']\n",
    "        self.n = 0\n",
    "        self.weights = [[2, 3], [-1, 0]]\n",
    "        self.exprs = []\n",
    "        self.args = []\n",
    "        \n",
    "    def args_neutralization(self, expr):\n",
    "        template = r'a = indneutralize(a, rank(%s));\\na'\n",
    "        args = '['\n",
    "        commas = len(self.groups) - 1\n",
    "        \n",
    "        exprs = []\n",
    "        \n",
    "        c = 0\n",
    "        for group in self.groups:\n",
    "            expr_1 = expr + r' = a + 0;\\n' + template % group\n",
    "            exprs.append(expr_1)\n",
    "            alpha = self.templ_settings % expr_1\n",
    "            args += alpha\n",
    "            \n",
    "            if c < commas:\n",
    "                args += ','\n",
    "            c += 1\n",
    "        args += ']'\n",
    "        self.args = args\n",
    "        self.exprs = exprs\n",
    "        return exprs\n",
    "    \n",
    "    def args_rank_weight(self, expr, group, prev_param, parity):\n",
    "        template = r'gr1 = 10*rank(%s);\\nweight1=gr1<1?%.1f:\\ngr1<2?%.1f:\\ngr1<3?%.1f:\\\n",
    "        \\ngr1<4?%.1f:\\ngr1<5?%.1f:\\ngr1<6?%.1f:\\ngr1<7?%.1f:\\ngr1<8?%.1f:\\ngr1<9?%.1f:\\n%.1f;\\na = weight1*a;\\na'\n",
    "        \n",
    "        args = '['\n",
    "        \n",
    "        weights = self.weights[parity]\n",
    "        \n",
    "        if prev_param == -1 and parity == 1:\n",
    "            parity = 0\n",
    "            \n",
    "        prev_weight = self.weights[0][prev_param // 10]\n",
    "        size = len(weights)\n",
    "        commas = size * 10 - parity * size - 1\n",
    "        c = 0\n",
    "        exprs = []\n",
    "        for weight in weights:\n",
    "            \n",
    "            for i in range(10):\n",
    "                a = []\n",
    "                for j in range(10):\n",
    "                    a.append(1)\n",
    "\n",
    "                if parity == 1:\n",
    "                    a[prev_param % 10] = prev_weight\n",
    "                    if prev_param % 10 == i:\n",
    "                        continue\n",
    "                a[i] = weight\n",
    "\n",
    "                expr_1 = expr + r' = a + 0;\\n' + template % (group, a[0], a[1], a[2], a[3], a[4], a[5], a[6], a[7], a[8], a[9])\n",
    "                exprs.append(expr_1)\n",
    "                alpha = self.templ_settings % expr_1\n",
    "\n",
    "                args += alpha \n",
    "\n",
    "                if c < commas:\n",
    "                    args += ','\n",
    "                c += 1\n",
    "            \n",
    "        args += ']'\n",
    "        \n",
    "        self.args = args\n",
    "        self.exprs = exprs\n",
    "        return exprs\n",
    "    \n",
    "    def args_group_mean(self, expr):\n",
    "        template = r'b = a == a?a : 0;\\n \\\n",
    "        a1 = a == a?scale(a) : scale( groupmean(b, %s, 1) );\\na = a1;\\na'\n",
    "        \n",
    "        args = '['\n",
    "        exprs = []\n",
    "        commas = len(self.groups) - 1\n",
    "        c = 0\n",
    "        \n",
    "        for group in self.groups:\n",
    "        \n",
    "            expr_1 = expr + r'=a + 0;\\n' + template % group\n",
    "            alpha = self.templ_settings % expr_1\n",
    "            args += alpha\n",
    "            exprs.append(expr_1)\n",
    "            \n",
    "            if c < commas:\n",
    "                args += ','\n",
    "            c += 1\n",
    "        args += ']'\n",
    "        self.args = args\n",
    "        self.exprs = exprs\n",
    "        return exprs\n",
    "            \n",
    "    \n",
    "        \n",
    "        \n",
    "            "
   ]
  },
  {
   "cell_type": "code",
   "execution_count": 12,
   "metadata": {},
   "outputs": [],
   "source": [
    "class Simulator:\n",
    "    def __init__(self, csrf):\n",
    "        self.csrf = csrf\n",
    "        self.is_simulation = False\n",
    "        self.res_url_nms = []\n",
    "        self.urls_corr = []\n",
    "        self.n = 0\n",
    "        self.results_ = []\n",
    "        \n",
    "        self.headers = {'User-Agent': 'Mozilla/5.0 (X11; Linux x86_64) AppleWebKit/537.36 (KHTML, like Gecko) snap Chromium/71.0.3578.98 Chrome/71.0.3578.98 Safari/537.36'}\n",
    "        \n",
    "    def simulate(self, args, req):\n",
    "        url = 'https://www.worldquantvrc.com/simulate'\n",
    "        \n",
    "        sim_data = dict(args = args, _xsrf = self.csrf)\n",
    "        \n",
    "        simul = req.post(url, data = sim_data, headers = self.headers, verify = False)\n",
    "\n",
    "        try:\n",
    "            dct = simul.json()\n",
    "            self.is_simulation = dct['status']\n",
    "            if self.is_simulation:\n",
    "                self.res_url_nms = dct['result']\n",
    "            else:\n",
    "                return dct\n",
    "            return self.is_simulation\n",
    "        \n",
    "        except json.decoder.JSONDecodeError:\n",
    "            return False\n",
    "    \n",
    "    def max_corr(self, corr_list):\n",
    "        res_corr_lst = []\n",
    "        for c in corr_list:\n",
    "            if c[2] != 0:\n",
    "                c[0] = float(c[0])\n",
    "                c[1] = float(c[1])\n",
    "                res_corr_lst.append(c)\n",
    "        max_corr = max(abs(res_corr_lst[0][0]), abs(res_corr_lst[len(res_corr_lst) - 1][1]))\n",
    "        return(max_corr)\n",
    "\n",
    "    def results(self, req):\n",
    "        is_done_url = 'https://www.worldquantvrc.com/job/progress/' + str(self.res_url_nms[0])\n",
    "        is_done_req = req.post(is_done_url)\n",
    "        while True:\n",
    "            if is_done_req.text == '\"DONE\"':\n",
    "                print('DONE')\n",
    "                break\n",
    "            elif is_done_req.text == '\"ERROR\"':\n",
    "                print('Killed by\\n')\n",
    "                error_url = 'https://www.worldquantvrc.com/job/error/' + str(self.res_url_nms[0])\n",
    "                er = req.post(error_url)\n",
    "                print(er.text)\n",
    "                return False\n",
    "            time.sleep(25)\n",
    "            print(is_done_req.text)\n",
    "            is_done_req = req.post(is_done_url)\n",
    "        \n",
    "        sim_res = []\n",
    "        \n",
    "        for res_nu in self.res_url_nms:\n",
    "            sim_sum_res_url = 'https://www.worldquantvrc.com/job/simsummary/' + str(res_nu)\n",
    "            res_data_req = req.post(sim_sum_res_url)\n",
    "            results_dct = res_data_req.json()\n",
    "            \n",
    "            dct = dict(sharpe = results_dct['result'][6]['Sharpe'], fitness = results_dct['result'][6]['Fitness'])\n",
    "            #POSSIBLE ERROR\n",
    "\n",
    "            sim_res.append(dct)\n",
    "            \n",
    "#             данные для запроса продкорреляции\n",
    "            details_url = 'https://www.worldquantvrc.com/job/details/' + str(res_nu)\n",
    "            hunt_for_corr = req.post(details_url)\n",
    "            \n",
    "            \n",
    "            details_dct = hunt_for_corr.json() #POSSIBLE ERROR\n",
    "            alpha_ID = details_dct['result']['clientAlphaId']\n",
    "                        \n",
    "\n",
    "\n",
    "            corr_url = 'https://websim2.worldquantvrc.com/correlation/start'\n",
    "\n",
    "        #    составление запроса \n",
    "            args_for_corr_req = '{\"alpha_list\":[\"%s\"],\"corr_type\":\"prod_corr\"}' %alpha_ID\n",
    "            data_for_corr_req = dict(args = args_for_corr_req, _xsrf = self.csrf)\n",
    "            corr_req = req.post(corr_url, data = data_for_corr_req, headers = self.headers, verify = False)\n",
    "\n",
    "        #   URL результата\n",
    "            corr_hlp_dct = corr_req.json() #POSSIBLE ERROR\n",
    "            self.urls_corr.append(['https://websim2.worldquantvrc.com/correlation/result/'+str(corr_hlp_dct['result']['RequestId']), alpha_ID])\n",
    "        \n",
    "        corrs = []\n",
    "#       цикл для выгрузки продкорреляции\n",
    "        for a in self.urls_corr:\n",
    "            url_of_corr_res = a[0]\n",
    "            req_of_corr_res = w.post(url_of_corr_res)\n",
    "            corr_res_dct = req_of_corr_res.json() #POSSIBLE ERROR\n",
    "            while True:\n",
    "                if corr_res_dct['result']['InProgress'] == False:\n",
    "                    print(\"Correlation success\")\n",
    "                    break\n",
    "                time.sleep(30)\n",
    "                print(corr_res_dct['result']['InProgress'],'\\n')\n",
    "                req_of_corr_res = w.post(url_of_corr_res)\n",
    "                corr_res_dct = req_of_corr_res.json()\n",
    "\n",
    "            hlp1 = corr_res_dct['result']['response'].replace(\"true\", \"True\")\n",
    "            hlp1 = hlp1.replace(\"null\", \"None\")\n",
    "            hlp1_dict = eval(hlp1)\n",
    "\n",
    "            alpha_ID = a[1]\n",
    "            corr_list = hlp1_dict[alpha_ID]['Result']\n",
    "            corrs.append(self.max_corr(corr_list))\n",
    "        \n",
    "        for i in range(len(sim_res)):\n",
    "            sim_res[i]['corr'] = corrs[i]\n",
    "            sim_res[i]['improve'] = i\n",
    "        \n",
    "        self.results_ = sim_res\n",
    "        self.urls_corr = []\n",
    "        return sim_res\n",
    "\n"
   ]
  },
  {
   "cell_type": "code",
   "execution_count": 10,
   "metadata": {},
   "outputs": [],
   "source": [
    "import math\n",
    "class AlphaHelp:\n",
    "    def __init__(self, best, expr):\n",
    "        self.impts = []\n",
    "        self.best = best\n",
    "        self.expr = expr\n",
    "        self.groups = ['income/revenue', 'assets/sales', 'debt/equity', 'revenue/receivable', 'sector', 'subindustry', 'current_ratio', 'industry', 'country', 'exchange', 'operating_margin', 'current_ratio', 'quick_ratio']\n",
    "        self.weights = [[2, 3], [-1, 0]]\n",
    "        \n",
    "    def best_alpha(self, sim_res):\n",
    "        # разбиение результатов на две группы по корреляции\n",
    "        hlp1 = []\n",
    "        hlp03 = []\n",
    "        hlp04 = []\n",
    "        best = self.best\n",
    "        for s in sim_res:\n",
    "            if s['corr'] <= 0.4:\n",
    "                hlp1.append(s)\n",
    "\n",
    "        for s in hlp1:\n",
    "            if s['corr'] <= 0.3:\n",
    "                hlp03.append(s)\n",
    "            else:\n",
    "                hlp04.append(s)\n",
    "\n",
    "        if hlp1 == []:\n",
    "            return self.max_sharpe(sim_res)\n",
    "        # выбор лучшей альфы на данном шаге\n",
    "        if hlp03 == []:\n",
    "            best_alpha_on_curr_step = self.max_sharpe(hlp04)[0]\n",
    "            \n",
    "        elif hlp04 == []:\n",
    "            best_alpha_on_curr_step = self.max_sharpe(hlp03)[0]\n",
    "            \n",
    "        elif self.max_sharpe(hlp04)[1] - self.max_sharpe(hlp03)[1] > 0.35:\n",
    "            best_alpha_on_curr_step =  self.max_sharpe(hlp04)[0]\n",
    "        else:\n",
    "            best_alpha_on_curr_step = self.max_sharpe(hlp03)[0]\n",
    "    \n",
    "        return best_alpha_on_curr_step  \n",
    "    # вспомогательные функции\n",
    "    def min_corr(self, lis):\n",
    "        min_cor = 0\n",
    "        res = []\n",
    "        for item in lis:\n",
    "            if item['corr'] < min_cor:\n",
    "                min_cor = item['corr']\n",
    "                res = item\n",
    "        return [res, min_corr]\n",
    "\n",
    "    def max_sharpe(self, lis):\n",
    "        max_sh = 0\n",
    "        res = []\n",
    "        for item in lis:\n",
    "            if abs(item['sharpe']) > max_sh:\n",
    "                max_sh = abs(item['sharpe'])\n",
    "                res = item\n",
    "        return [res, max_sh]\n",
    "    \n",
    "    def compare_alphas(self, prev_res, curr_res):\n",
    "        sim_res = []\n",
    "        \n",
    "        sim_res.append(prev_res)\n",
    "        sim_res.append(curr_res)\n",
    "        \n",
    "        if self.best_alpha(sim_res) == prev_res:\n",
    "            self.impts.append(-1)\n",
    "            self.best = prev_res\n",
    "            return prev_res\n",
    "        else:\n",
    "            self.impts.append(curr_res['improve'])\n",
    "            self.best = curr_res\n",
    "            return curr_res\n",
    "            "
   ]
  },
  {
   "cell_type": "code",
   "execution_count": 6,
   "metadata": {},
   "outputs": [
    {
     "name": "stderr",
     "output_type": "stream",
     "text": [
      "/anaconda3/lib/python3.6/site-packages/urllib3/connectionpool.py:858: InsecureRequestWarning: Unverified HTTPS request is being made. Adding certificate verification is strongly advised. See: https://urllib3.readthedocs.io/en/latest/advanced-usage.html#ssl-warnings\n",
      "  InsecureRequestWarning)\n"
     ]
    },
    {
     "name": "stdout",
     "output_type": "stream",
     "text": [
      "True\n"
     ]
    }
   ],
   "source": [
    "import requests\n",
    "import json\n",
    "import time\n",
    "csrf = '2|b90e8024|00c519c20f16c8ff6c2ca354e9be0419|1545252955'\n",
    "loginer = Loginer('martiroshot@gmail.com', '5X0kwwAM', '2|b90e8024|00c519c20f16c8ff6c2ca354e9be0419|1545252955')\n",
    "with requests.Session() as w:        \n",
    "    a = loginer.login(w)\n",
    "    print(a)"
   ]
  },
  {
   "cell_type": "code",
   "execution_count": 13,
   "metadata": {
    "scrolled": true
   },
   "outputs": [
    {
     "name": "stderr",
     "output_type": "stream",
     "text": [
      "/anaconda3/lib/python3.6/site-packages/urllib3/connectionpool.py:858: InsecureRequestWarning: Unverified HTTPS request is being made. Adding certificate verification is strongly advised. See: https://urllib3.readthedocs.io/en/latest/advanced-usage.html#ssl-warnings\n",
      "  InsecureRequestWarning)\n",
      "/anaconda3/lib/python3.6/site-packages/urllib3/connectionpool.py:858: InsecureRequestWarning: Unverified HTTPS request is being made. Adding certificate verification is strongly advised. See: https://urllib3.readthedocs.io/en/latest/advanced-usage.html#ssl-warnings\n",
      "  InsecureRequestWarning)\n"
     ]
    },
    {
     "name": "stdout",
     "output_type": "stream",
     "text": [
      "0\n"
     ]
    },
    {
     "name": "stderr",
     "output_type": "stream",
     "text": [
      "/anaconda3/lib/python3.6/site-packages/urllib3/connectionpool.py:858: InsecureRequestWarning: Unverified HTTPS request is being made. Adding certificate verification is strongly advised. See: https://urllib3.readthedocs.io/en/latest/advanced-usage.html#ssl-warnings\n",
      "  InsecureRequestWarning)\n"
     ]
    },
    {
     "name": "stdout",
     "output_type": "stream",
     "text": [
      "66\n"
     ]
    },
    {
     "name": "stderr",
     "output_type": "stream",
     "text": [
      "/anaconda3/lib/python3.6/site-packages/urllib3/connectionpool.py:858: InsecureRequestWarning: Unverified HTTPS request is being made. Adding certificate verification is strongly advised. See: https://urllib3.readthedocs.io/en/latest/advanced-usage.html#ssl-warnings\n",
      "  InsecureRequestWarning)\n"
     ]
    },
    {
     "name": "stdout",
     "output_type": "stream",
     "text": [
      "66\n"
     ]
    },
    {
     "name": "stderr",
     "output_type": "stream",
     "text": [
      "/anaconda3/lib/python3.6/site-packages/urllib3/connectionpool.py:858: InsecureRequestWarning: Unverified HTTPS request is being made. Adding certificate verification is strongly advised. See: https://urllib3.readthedocs.io/en/latest/advanced-usage.html#ssl-warnings\n",
      "  InsecureRequestWarning)\n",
      "/anaconda3/lib/python3.6/site-packages/urllib3/connectionpool.py:858: InsecureRequestWarning: Unverified HTTPS request is being made. Adding certificate verification is strongly advised. See: https://urllib3.readthedocs.io/en/latest/advanced-usage.html#ssl-warnings\n",
      "  InsecureRequestWarning)\n"
     ]
    },
    {
     "name": "stdout",
     "output_type": "stream",
     "text": [
      "DONE\n"
     ]
    },
    {
     "name": "stderr",
     "output_type": "stream",
     "text": [
      "/anaconda3/lib/python3.6/site-packages/urllib3/connectionpool.py:858: InsecureRequestWarning: Unverified HTTPS request is being made. Adding certificate verification is strongly advised. See: https://urllib3.readthedocs.io/en/latest/advanced-usage.html#ssl-warnings\n",
      "  InsecureRequestWarning)\n",
      "/anaconda3/lib/python3.6/site-packages/urllib3/connectionpool.py:858: InsecureRequestWarning: Unverified HTTPS request is being made. Adding certificate verification is strongly advised. See: https://urllib3.readthedocs.io/en/latest/advanced-usage.html#ssl-warnings\n",
      "  InsecureRequestWarning)\n",
      "/anaconda3/lib/python3.6/site-packages/urllib3/connectionpool.py:858: InsecureRequestWarning: Unverified HTTPS request is being made. Adding certificate verification is strongly advised. See: https://urllib3.readthedocs.io/en/latest/advanced-usage.html#ssl-warnings\n",
      "  InsecureRequestWarning)\n"
     ]
    },
    {
     "name": "stdout",
     "output_type": "stream",
     "text": [
      "True \n",
      "\n"
     ]
    },
    {
     "name": "stderr",
     "output_type": "stream",
     "text": [
      "/anaconda3/lib/python3.6/site-packages/urllib3/connectionpool.py:858: InsecureRequestWarning: Unverified HTTPS request is being made. Adding certificate verification is strongly advised. See: https://urllib3.readthedocs.io/en/latest/advanced-usage.html#ssl-warnings\n",
      "  InsecureRequestWarning)\n"
     ]
    },
    {
     "name": "stdout",
     "output_type": "stream",
     "text": [
      "True \n",
      "\n",
      "Correlation success\n"
     ]
    },
    {
     "name": "stderr",
     "output_type": "stream",
     "text": [
      "/anaconda3/lib/python3.6/site-packages/urllib3/connectionpool.py:858: InsecureRequestWarning: Unverified HTTPS request is being made. Adding certificate verification is strongly advised. See: https://urllib3.readthedocs.io/en/latest/advanced-usage.html#ssl-warnings\n",
      "  InsecureRequestWarning)\n"
     ]
    }
   ],
   "source": [
    "args = '[{\"delay\":\"1\",\"unitcheck\":\"off\",\"univid\":\"TOP100\",\"opcodetype\":\"EXPRESSION\",\"opassetclass\":\"EQUITY\",\"optrunc\":0.018,\"code\": \"%s\",\"region\":\"EUR\",\"opneut\":\"market\",\"IntradayType\":null,\"tags\":\"equity\",\"decay\":10,\"dataviz\":\"0\",\"backdays\":256,\"simtime\":\"Y10\"}]'\n",
    "\n",
    "expression_0 = 'ts_skewness((scale(assets)-scale(EBITDA))/scale(accounts_payable), 30)'\n",
    "signal_code = r'a = %s;\\na' % expression_0\n",
    "args = args % expression_0\n",
    "\n",
    "\n",
    "simulator = Simulator(csrf)\n",
    "codeVar = CodeVariator()\n",
    "simulator.simulate(args, w)\n",
    "simulator.results(w)\n",
    "helper = AlphaHelp(simulator.results_[0], signal_code)"
   ]
  },
  {
   "cell_type": "code",
   "execution_count": 14,
   "metadata": {},
   "outputs": [
    {
     "data": {
      "text/plain": [
       "[{'corr': 0.4, 'fitness': 0.02, 'improve': 0, 'sharpe': 0.11}]"
      ]
     },
     "execution_count": 14,
     "metadata": {},
     "output_type": "execute_result"
    }
   ],
   "source": [
    "simulator.results_"
   ]
  },
  {
   "cell_type": "code",
   "execution_count": 15,
   "metadata": {},
   "outputs": [],
   "source": [
    "codeVar = CodeVariator()"
   ]
  },
  {
   "cell_type": "code",
   "execution_count": 16,
   "metadata": {},
   "outputs": [
    {
     "name": "stderr",
     "output_type": "stream",
     "text": [
      "/anaconda3/lib/python3.6/site-packages/urllib3/connectionpool.py:858: InsecureRequestWarning: Unverified HTTPS request is being made. Adding certificate verification is strongly advised. See: https://urllib3.readthedocs.io/en/latest/advanced-usage.html#ssl-warnings\n",
      "  InsecureRequestWarning)\n",
      "/anaconda3/lib/python3.6/site-packages/urllib3/connectionpool.py:858: InsecureRequestWarning: Unverified HTTPS request is being made. Adding certificate verification is strongly advised. See: https://urllib3.readthedocs.io/en/latest/advanced-usage.html#ssl-warnings\n",
      "  InsecureRequestWarning)\n"
     ]
    },
    {
     "name": "stdout",
     "output_type": "stream",
     "text": [
      "0\n"
     ]
    },
    {
     "name": "stderr",
     "output_type": "stream",
     "text": [
      "/anaconda3/lib/python3.6/site-packages/urllib3/connectionpool.py:858: InsecureRequestWarning: Unverified HTTPS request is being made. Adding certificate verification is strongly advised. See: https://urllib3.readthedocs.io/en/latest/advanced-usage.html#ssl-warnings\n",
      "  InsecureRequestWarning)\n"
     ]
    },
    {
     "name": "stdout",
     "output_type": "stream",
     "text": [
      "0\n"
     ]
    },
    {
     "name": "stderr",
     "output_type": "stream",
     "text": [
      "/anaconda3/lib/python3.6/site-packages/urllib3/connectionpool.py:858: InsecureRequestWarning: Unverified HTTPS request is being made. Adding certificate verification is strongly advised. See: https://urllib3.readthedocs.io/en/latest/advanced-usage.html#ssl-warnings\n",
      "  InsecureRequestWarning)\n"
     ]
    },
    {
     "name": "stdout",
     "output_type": "stream",
     "text": [
      "0\n"
     ]
    },
    {
     "name": "stderr",
     "output_type": "stream",
     "text": [
      "/anaconda3/lib/python3.6/site-packages/urllib3/connectionpool.py:858: InsecureRequestWarning: Unverified HTTPS request is being made. Adding certificate verification is strongly advised. See: https://urllib3.readthedocs.io/en/latest/advanced-usage.html#ssl-warnings\n",
      "  InsecureRequestWarning)\n"
     ]
    },
    {
     "name": "stdout",
     "output_type": "stream",
     "text": [
      "35\n"
     ]
    },
    {
     "name": "stderr",
     "output_type": "stream",
     "text": [
      "/anaconda3/lib/python3.6/site-packages/urllib3/connectionpool.py:858: InsecureRequestWarning: Unverified HTTPS request is being made. Adding certificate verification is strongly advised. See: https://urllib3.readthedocs.io/en/latest/advanced-usage.html#ssl-warnings\n",
      "  InsecureRequestWarning)\n"
     ]
    },
    {
     "name": "stdout",
     "output_type": "stream",
     "text": [
      "35\n"
     ]
    },
    {
     "name": "stderr",
     "output_type": "stream",
     "text": [
      "/anaconda3/lib/python3.6/site-packages/urllib3/connectionpool.py:858: InsecureRequestWarning: Unverified HTTPS request is being made. Adding certificate verification is strongly advised. See: https://urllib3.readthedocs.io/en/latest/advanced-usage.html#ssl-warnings\n",
      "  InsecureRequestWarning)\n"
     ]
    },
    {
     "name": "stdout",
     "output_type": "stream",
     "text": [
      "35\n"
     ]
    },
    {
     "name": "stderr",
     "output_type": "stream",
     "text": [
      "/anaconda3/lib/python3.6/site-packages/urllib3/connectionpool.py:858: InsecureRequestWarning: Unverified HTTPS request is being made. Adding certificate verification is strongly advised. See: https://urllib3.readthedocs.io/en/latest/advanced-usage.html#ssl-warnings\n",
      "  InsecureRequestWarning)\n"
     ]
    },
    {
     "name": "stdout",
     "output_type": "stream",
     "text": [
      "35\n",
      "DONE\n"
     ]
    },
    {
     "name": "stderr",
     "output_type": "stream",
     "text": [
      "/anaconda3/lib/python3.6/site-packages/urllib3/connectionpool.py:858: InsecureRequestWarning: Unverified HTTPS request is being made. Adding certificate verification is strongly advised. See: https://urllib3.readthedocs.io/en/latest/advanced-usage.html#ssl-warnings\n",
      "  InsecureRequestWarning)\n",
      "/anaconda3/lib/python3.6/site-packages/urllib3/connectionpool.py:858: InsecureRequestWarning: Unverified HTTPS request is being made. Adding certificate verification is strongly advised. See: https://urllib3.readthedocs.io/en/latest/advanced-usage.html#ssl-warnings\n",
      "  InsecureRequestWarning)\n",
      "/anaconda3/lib/python3.6/site-packages/urllib3/connectionpool.py:858: InsecureRequestWarning: Unverified HTTPS request is being made. Adding certificate verification is strongly advised. See: https://urllib3.readthedocs.io/en/latest/advanced-usage.html#ssl-warnings\n",
      "  InsecureRequestWarning)\n",
      "/anaconda3/lib/python3.6/site-packages/urllib3/connectionpool.py:858: InsecureRequestWarning: Unverified HTTPS request is being made. Adding certificate verification is strongly advised. See: https://urllib3.readthedocs.io/en/latest/advanced-usage.html#ssl-warnings\n",
      "  InsecureRequestWarning)\n",
      "/anaconda3/lib/python3.6/site-packages/urllib3/connectionpool.py:858: InsecureRequestWarning: Unverified HTTPS request is being made. Adding certificate verification is strongly advised. See: https://urllib3.readthedocs.io/en/latest/advanced-usage.html#ssl-warnings\n",
      "  InsecureRequestWarning)\n",
      "/anaconda3/lib/python3.6/site-packages/urllib3/connectionpool.py:858: InsecureRequestWarning: Unverified HTTPS request is being made. Adding certificate verification is strongly advised. See: https://urllib3.readthedocs.io/en/latest/advanced-usage.html#ssl-warnings\n",
      "  InsecureRequestWarning)\n",
      "/anaconda3/lib/python3.6/site-packages/urllib3/connectionpool.py:858: InsecureRequestWarning: Unverified HTTPS request is being made. Adding certificate verification is strongly advised. See: https://urllib3.readthedocs.io/en/latest/advanced-usage.html#ssl-warnings\n",
      "  InsecureRequestWarning)\n",
      "/anaconda3/lib/python3.6/site-packages/urllib3/connectionpool.py:858: InsecureRequestWarning: Unverified HTTPS request is being made. Adding certificate verification is strongly advised. See: https://urllib3.readthedocs.io/en/latest/advanced-usage.html#ssl-warnings\n",
      "  InsecureRequestWarning)\n",
      "/anaconda3/lib/python3.6/site-packages/urllib3/connectionpool.py:858: InsecureRequestWarning: Unverified HTTPS request is being made. Adding certificate verification is strongly advised. See: https://urllib3.readthedocs.io/en/latest/advanced-usage.html#ssl-warnings\n",
      "  InsecureRequestWarning)\n",
      "/anaconda3/lib/python3.6/site-packages/urllib3/connectionpool.py:858: InsecureRequestWarning: Unverified HTTPS request is being made. Adding certificate verification is strongly advised. See: https://urllib3.readthedocs.io/en/latest/advanced-usage.html#ssl-warnings\n",
      "  InsecureRequestWarning)\n",
      "/anaconda3/lib/python3.6/site-packages/urllib3/connectionpool.py:858: InsecureRequestWarning: Unverified HTTPS request is being made. Adding certificate verification is strongly advised. See: https://urllib3.readthedocs.io/en/latest/advanced-usage.html#ssl-warnings\n",
      "  InsecureRequestWarning)\n",
      "/anaconda3/lib/python3.6/site-packages/urllib3/connectionpool.py:858: InsecureRequestWarning: Unverified HTTPS request is being made. Adding certificate verification is strongly advised. See: https://urllib3.readthedocs.io/en/latest/advanced-usage.html#ssl-warnings\n",
      "  InsecureRequestWarning)\n",
      "/anaconda3/lib/python3.6/site-packages/urllib3/connectionpool.py:858: InsecureRequestWarning: Unverified HTTPS request is being made. Adding certificate verification is strongly advised. See: https://urllib3.readthedocs.io/en/latest/advanced-usage.html#ssl-warnings\n",
      "  InsecureRequestWarning)\n",
      "/anaconda3/lib/python3.6/site-packages/urllib3/connectionpool.py:858: InsecureRequestWarning: Unverified HTTPS request is being made. Adding certificate verification is strongly advised. See: https://urllib3.readthedocs.io/en/latest/advanced-usage.html#ssl-warnings\n",
      "  InsecureRequestWarning)\n",
      "/anaconda3/lib/python3.6/site-packages/urllib3/connectionpool.py:858: InsecureRequestWarning: Unverified HTTPS request is being made. Adding certificate verification is strongly advised. See: https://urllib3.readthedocs.io/en/latest/advanced-usage.html#ssl-warnings\n",
      "  InsecureRequestWarning)\n",
      "/anaconda3/lib/python3.6/site-packages/urllib3/connectionpool.py:858: InsecureRequestWarning: Unverified HTTPS request is being made. Adding certificate verification is strongly advised. See: https://urllib3.readthedocs.io/en/latest/advanced-usage.html#ssl-warnings\n",
      "  InsecureRequestWarning)\n",
      "/anaconda3/lib/python3.6/site-packages/urllib3/connectionpool.py:858: InsecureRequestWarning: Unverified HTTPS request is being made. Adding certificate verification is strongly advised. See: https://urllib3.readthedocs.io/en/latest/advanced-usage.html#ssl-warnings\n",
      "  InsecureRequestWarning)\n",
      "/anaconda3/lib/python3.6/site-packages/urllib3/connectionpool.py:858: InsecureRequestWarning: Unverified HTTPS request is being made. Adding certificate verification is strongly advised. See: https://urllib3.readthedocs.io/en/latest/advanced-usage.html#ssl-warnings\n",
      "  InsecureRequestWarning)\n",
      "/anaconda3/lib/python3.6/site-packages/urllib3/connectionpool.py:858: InsecureRequestWarning: Unverified HTTPS request is being made. Adding certificate verification is strongly advised. See: https://urllib3.readthedocs.io/en/latest/advanced-usage.html#ssl-warnings\n",
      "  InsecureRequestWarning)\n",
      "/anaconda3/lib/python3.6/site-packages/urllib3/connectionpool.py:858: InsecureRequestWarning: Unverified HTTPS request is being made. Adding certificate verification is strongly advised. See: https://urllib3.readthedocs.io/en/latest/advanced-usage.html#ssl-warnings\n",
      "  InsecureRequestWarning)\n",
      "/anaconda3/lib/python3.6/site-packages/urllib3/connectionpool.py:858: InsecureRequestWarning: Unverified HTTPS request is being made. Adding certificate verification is strongly advised. See: https://urllib3.readthedocs.io/en/latest/advanced-usage.html#ssl-warnings\n",
      "  InsecureRequestWarning)\n",
      "/anaconda3/lib/python3.6/site-packages/urllib3/connectionpool.py:858: InsecureRequestWarning: Unverified HTTPS request is being made. Adding certificate verification is strongly advised. See: https://urllib3.readthedocs.io/en/latest/advanced-usage.html#ssl-warnings\n",
      "  InsecureRequestWarning)\n",
      "/anaconda3/lib/python3.6/site-packages/urllib3/connectionpool.py:858: InsecureRequestWarning: Unverified HTTPS request is being made. Adding certificate verification is strongly advised. See: https://urllib3.readthedocs.io/en/latest/advanced-usage.html#ssl-warnings\n",
      "  InsecureRequestWarning)\n",
      "/anaconda3/lib/python3.6/site-packages/urllib3/connectionpool.py:858: InsecureRequestWarning: Unverified HTTPS request is being made. Adding certificate verification is strongly advised. See: https://urllib3.readthedocs.io/en/latest/advanced-usage.html#ssl-warnings\n",
      "  InsecureRequestWarning)\n",
      "/anaconda3/lib/python3.6/site-packages/urllib3/connectionpool.py:858: InsecureRequestWarning: Unverified HTTPS request is being made. Adding certificate verification is strongly advised. See: https://urllib3.readthedocs.io/en/latest/advanced-usage.html#ssl-warnings\n",
      "  InsecureRequestWarning)\n",
      "/anaconda3/lib/python3.6/site-packages/urllib3/connectionpool.py:858: InsecureRequestWarning: Unverified HTTPS request is being made. Adding certificate verification is strongly advised. See: https://urllib3.readthedocs.io/en/latest/advanced-usage.html#ssl-warnings\n",
      "  InsecureRequestWarning)\n"
     ]
    },
    {
     "name": "stdout",
     "output_type": "stream",
     "text": [
      "True \n",
      "\n"
     ]
    },
    {
     "name": "stderr",
     "output_type": "stream",
     "text": [
      "/anaconda3/lib/python3.6/site-packages/urllib3/connectionpool.py:858: InsecureRequestWarning: Unverified HTTPS request is being made. Adding certificate verification is strongly advised. See: https://urllib3.readthedocs.io/en/latest/advanced-usage.html#ssl-warnings\n",
      "  InsecureRequestWarning)\n"
     ]
    },
    {
     "name": "stdout",
     "output_type": "stream",
     "text": [
      "True \n",
      "\n"
     ]
    },
    {
     "name": "stderr",
     "output_type": "stream",
     "text": [
      "/anaconda3/lib/python3.6/site-packages/urllib3/connectionpool.py:858: InsecureRequestWarning: Unverified HTTPS request is being made. Adding certificate verification is strongly advised. See: https://urllib3.readthedocs.io/en/latest/advanced-usage.html#ssl-warnings\n",
      "  InsecureRequestWarning)\n",
      "/anaconda3/lib/python3.6/site-packages/urllib3/connectionpool.py:858: InsecureRequestWarning: Unverified HTTPS request is being made. Adding certificate verification is strongly advised. See: https://urllib3.readthedocs.io/en/latest/advanced-usage.html#ssl-warnings\n",
      "  InsecureRequestWarning)\n"
     ]
    },
    {
     "name": "stdout",
     "output_type": "stream",
     "text": [
      "Correlation success\n",
      "Correlation success\n"
     ]
    },
    {
     "name": "stderr",
     "output_type": "stream",
     "text": [
      "/anaconda3/lib/python3.6/site-packages/urllib3/connectionpool.py:858: InsecureRequestWarning: Unverified HTTPS request is being made. Adding certificate verification is strongly advised. See: https://urllib3.readthedocs.io/en/latest/advanced-usage.html#ssl-warnings\n",
      "  InsecureRequestWarning)\n",
      "/anaconda3/lib/python3.6/site-packages/urllib3/connectionpool.py:858: InsecureRequestWarning: Unverified HTTPS request is being made. Adding certificate verification is strongly advised. See: https://urllib3.readthedocs.io/en/latest/advanced-usage.html#ssl-warnings\n",
      "  InsecureRequestWarning)\n"
     ]
    },
    {
     "name": "stdout",
     "output_type": "stream",
     "text": [
      "Correlation success\n",
      "Correlation success\n"
     ]
    },
    {
     "name": "stderr",
     "output_type": "stream",
     "text": [
      "/anaconda3/lib/python3.6/site-packages/urllib3/connectionpool.py:858: InsecureRequestWarning: Unverified HTTPS request is being made. Adding certificate verification is strongly advised. See: https://urllib3.readthedocs.io/en/latest/advanced-usage.html#ssl-warnings\n",
      "  InsecureRequestWarning)\n",
      "/anaconda3/lib/python3.6/site-packages/urllib3/connectionpool.py:858: InsecureRequestWarning: Unverified HTTPS request is being made. Adding certificate verification is strongly advised. See: https://urllib3.readthedocs.io/en/latest/advanced-usage.html#ssl-warnings\n",
      "  InsecureRequestWarning)\n"
     ]
    },
    {
     "name": "stdout",
     "output_type": "stream",
     "text": [
      "Correlation success\n",
      "True \n",
      "\n"
     ]
    },
    {
     "name": "stderr",
     "output_type": "stream",
     "text": [
      "/anaconda3/lib/python3.6/site-packages/urllib3/connectionpool.py:858: InsecureRequestWarning: Unverified HTTPS request is being made. Adding certificate verification is strongly advised. See: https://urllib3.readthedocs.io/en/latest/advanced-usage.html#ssl-warnings\n",
      "  InsecureRequestWarning)\n",
      "/anaconda3/lib/python3.6/site-packages/urllib3/connectionpool.py:858: InsecureRequestWarning: Unverified HTTPS request is being made. Adding certificate verification is strongly advised. See: https://urllib3.readthedocs.io/en/latest/advanced-usage.html#ssl-warnings\n",
      "  InsecureRequestWarning)\n"
     ]
    },
    {
     "name": "stdout",
     "output_type": "stream",
     "text": [
      "Correlation success\n",
      "Correlation success\n",
      "Correlation success\n"
     ]
    },
    {
     "name": "stderr",
     "output_type": "stream",
     "text": [
      "/anaconda3/lib/python3.6/site-packages/urllib3/connectionpool.py:858: InsecureRequestWarning: Unverified HTTPS request is being made. Adding certificate verification is strongly advised. See: https://urllib3.readthedocs.io/en/latest/advanced-usage.html#ssl-warnings\n",
      "  InsecureRequestWarning)\n"
     ]
    }
   ],
   "source": [
    "codeVar.args_neutralization(helper.expr)\n",
    "simulator.simulate(codeVar.args, w)\n",
    "simulator.results(w)\n",
    "helper.best = helper.best_alpha(simulator.results_)\n",
    "helper.expr = codeVar.exprs[helper.best['improve']]\n",
    "helper.impts.append(helper.best['improve'])"
   ]
  },
  {
   "cell_type": "code",
   "execution_count": 19,
   "metadata": {},
   "outputs": [
    {
     "data": {
      "text/plain": [
       "[{'corr': 0.4, 'fitness': -0.0, 'improve': 0, 'sharpe': -0.03},\n",
       " {'corr': 0.4, 'fitness': 0.03, 'improve': 1, 'sharpe': 0.14},\n",
       " {'corr': 0.4, 'fitness': -0.19, 'improve': 2, 'sharpe': -0.44},\n",
       " {'corr': 0.4, 'fitness': -0.11, 'improve': 3, 'sharpe': -0.31},\n",
       " {'corr': 0.4, 'fitness': 0.04, 'improve': 4, 'sharpe': 0.15},\n",
       " {'corr': 0.4, 'fitness': -0.01, 'improve': 5, 'sharpe': -0.07},\n",
       " {'corr': 0.4, 'fitness': -0.08, 'improve': 6, 'sharpe': -0.25},\n",
       " {'corr': 0.4, 'fitness': -0.08, 'improve': 7, 'sharpe': -0.25}]"
      ]
     },
     "execution_count": 19,
     "metadata": {},
     "output_type": "execute_result"
    }
   ],
   "source": [
    "simulator.results_"
   ]
  },
  {
   "cell_type": "code",
   "execution_count": 20,
   "metadata": {},
   "outputs": [
    {
     "data": {
      "text/plain": [
       "[223285407,\n",
       " 223285408,\n",
       " 223285409,\n",
       " 223285410,\n",
       " 223285414,\n",
       " 223285415,\n",
       " 223285417,\n",
       " 223285418]"
      ]
     },
     "execution_count": 20,
     "metadata": {},
     "output_type": "execute_result"
    }
   ],
   "source": [
    "simulator.res_url_nms"
   ]
  },
  {
   "cell_type": "code",
   "execution_count": 21,
   "metadata": {},
   "outputs": [
    {
     "data": {
      "text/plain": [
       "[]"
      ]
     },
     "execution_count": 21,
     "metadata": {},
     "output_type": "execute_result"
    }
   ],
   "source": [
    "simulator.urls_corr"
   ]
  },
  {
   "cell_type": "code",
   "execution_count": null,
   "metadata": {
    "scrolled": true
   },
   "outputs": [],
   "source": [
    "codeVar.args_group_mean(helper.expr)\n",
    "simulator.simulate(codeVar.args, w)\n",
    "simulator.results(w)\n",
    "\n",
    "helper.compare_alphas(helper.best, helper.best_alpha(simulator.results_))\n",
    "if helper.impts[len(helper.impts) - 1] != -1:\n",
    "    helper.expr = codeVar.exprs[helper.best['improve']]"
   ]
  },
  {
   "cell_type": "code",
   "execution_count": null,
   "metadata": {},
   "outputs": [],
   "source": [
    "p = 0"
   ]
  },
  {
   "cell_type": "code",
   "execution_count": null,
   "metadata": {
    "scrolled": true
   },
   "outputs": [],
   "source": [
    "param = helper.impts[len(helper.impts) - 1]\n",
    "exprs = []\n",
    "for group in helper.groups:\n",
    "\n",
    "    param = helper.impts[len(helper.impts) - 1]\n",
    "\n",
    "    codeVar.args_rank_weight(helper.expr, group, param, p % 2)\n",
    "    simulator.simulate(codeVar.args, w)\n",
    "    simulator.results(w)\n",
    "    \n",
    "    exprs_prev = codeVar.exprs\n",
    "    results_prev = simulator.results_\n",
    "    best_prev = helper.best\n",
    "    impts_prev = helper.impts\n",
    "    expr_prev = helper.expr\n",
    "    \n",
    "    \n",
    "    helper.compare_alphas(helper.best, helper.best_alpha(simulator.results_))\n",
    "    p += 1\n",
    "    \n",
    "    print( 'step ', p, '\\n', simulator.results_, '\\n', helper.best )\n",
    "    param = helper.impts[len(helper.impts) - 1]\n",
    "\n",
    "    codeVar.args_rank_weight(helper.expr, group, param, p % 2)\n",
    "    simulator.simulate(codeVar.args, w)\n",
    "    simulator.results(w)\n",
    "    \n",
    "    helper.compare_alphas(helper.best, helper.best_alpha(simulator.results_))\n",
    "    if helper.impts[len(helper.impts) - 1] != -1:\n",
    "        helper.expr = codeVar.exprs[helper.best['improve']]\n",
    "    if helper.impts[len(helper.impts) - 1] == -1 and helper.impts[len(helper.impts) - 2] != -1:\n",
    "        helper.expr = exprs_prev[helper.impts[len(helper.impts) - 2]]\n",
    "    p += 1\n",
    "    \n",
    "    print( 'step ', p, '\\n', simulator.results_, '\\n', helper.best )\n",
    "    \n",
    "    if (abs(helper.best['fitness']) > 2.0 and helper.best['corr'] <= 0.3):\n",
    "        break\n",
    "\n"
   ]
  },
  {
   "cell_type": "code",
   "execution_count": 25,
   "metadata": {},
   "outputs": [
    {
     "name": "stderr",
     "output_type": "stream",
     "text": [
      "/anaconda3/lib/python3.6/site-packages/urllib3/connectionpool.py:858: InsecureRequestWarning: Unverified HTTPS request is being made. Adding certificate verification is strongly advised. See: https://urllib3.readthedocs.io/en/latest/advanced-usage.html#ssl-warnings\n",
      "  InsecureRequestWarning)\n"
     ]
    },
    {
     "data": {
      "text/plain": [
       "True"
      ]
     },
     "execution_count": 25,
     "metadata": {},
     "output_type": "execute_result"
    }
   ],
   "source": [
    "loginer.check(w)"
   ]
  },
  {
   "cell_type": "markdown",
   "metadata": {},
   "source": [
    "codeVar.exprs = exprs_prev\n",
    "simulator.results_ = results_prev\n",
    "helper.best = best_prev\n",
    "helper.impts = impts_prev\n",
    "helper.expr = expr_prev\n",
    "p = p-1"
   ]
  },
  {
   "cell_type": "code",
   "execution_count": 14,
   "metadata": {},
   "outputs": [
    {
     "data": {
      "text/plain": [
       "{'sharpe': 1.66, 'fitness': 1.58, 'corr': 0.3, 'improve': 15}"
      ]
     },
     "execution_count": 14,
     "metadata": {},
     "output_type": "execute_result"
    }
   ],
   "source": [
    "helper.best"
   ]
  },
  {
   "cell_type": "code",
   "execution_count": 27,
   "metadata": {},
   "outputs": [
    {
     "data": {
      "text/plain": [
       "7"
      ]
     },
     "execution_count": 27,
     "metadata": {},
     "output_type": "execute_result"
    }
   ],
   "source": [
    "p"
   ]
  },
  {
   "cell_type": "code",
   "execution_count": null,
   "metadata": {},
   "outputs": [],
   "source": []
  }
 ],
 "metadata": {
  "kernelspec": {
   "display_name": "Python 3",
   "language": "python",
   "name": "python3"
  },
  "language_info": {
   "codemirror_mode": {
    "name": "ipython",
    "version": 3
   },
   "file_extension": ".py",
   "mimetype": "text/x-python",
   "name": "python",
   "nbconvert_exporter": "python",
   "pygments_lexer": "ipython3",
   "version": "3.6.5"
  }
 },
 "nbformat": 4,
 "nbformat_minor": 2
}
